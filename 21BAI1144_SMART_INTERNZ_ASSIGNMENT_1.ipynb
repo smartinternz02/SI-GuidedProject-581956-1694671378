{
 "cells": [
  {
   "cell_type": "markdown",
   "id": "bf6ad64f",
   "metadata": {},
   "source": [
    "AIML ASSIGNMENT ONE\n",
    "\n",
    "NAME: PUTIKAM YASHWANTH\n",
    "\n",
    "\n",
    "\n",
    "REGISTER NUMBER: 21BAI1144"
   ]
  },
  {
   "cell_type": "code",
   "execution_count": 1,
   "id": "d79ebe0f",
   "metadata": {},
   "outputs": [],
   "source": [
    "import pandas as pd\n",
    "import numpy as np"
   ]
  },
  {
   "cell_type": "code",
   "execution_count": 4,
   "id": "dcbb7afd",
   "metadata": {},
   "outputs": [
    {
     "name": "stdout",
     "output_type": "stream",
     "text": [
      "Task 1: We are printing a DataFrame with random values\n",
      "          0         1         2         3\n",
      "0  1.060329 -0.885036  0.130441  0.978027\n",
      "1 -1.057402 -0.346344  0.939635 -1.076413\n",
      "2  0.549003  1.122378 -1.005165 -1.535333\n",
      "3  1.424416 -0.089028 -0.072928  0.742832\n"
     ]
    }
   ],
   "source": [
    "# Task 1: Create a DataFrame with random values\n",
    "data = np.random.randn(4, 4)\n",
    "df = pd.DataFrame(data)\n",
    "print(\"Task 1: We are printing a DataFrame with random values\")\n",
    "print(df)"
   ]
  },
  {
   "cell_type": "code",
   "execution_count": 5,
   "id": "0f471617",
   "metadata": {},
   "outputs": [
    {
     "name": "stdout",
     "output_type": "stream",
     "text": [
      "Task 2: DataFrame with column names changed as above\n",
      "   Random value 1  Random value 2  Random value 3  Random value 4\n",
      "0        1.060329       -0.885036        0.130441        0.978027\n",
      "1       -1.057402       -0.346344        0.939635       -1.076413\n",
      "2        0.549003        1.122378       -1.005165       -1.535333\n",
      "3        1.424416       -0.089028       -0.072928        0.742832\n"
     ]
    }
   ],
   "source": [
    "# Task 2: Rename the DataFrame columns\n",
    "df.columns = ['Random value 1', 'Random value 2', 'Random value 3', 'Random value 4']\n",
    "print(\"Task 2: DataFrame with column names changed as above\")\n",
    "print(df)"
   ]
  },
  {
   "cell_type": "code",
   "execution_count": 6,
   "id": "019b221a",
   "metadata": {},
   "outputs": [
    {
     "name": "stdout",
     "output_type": "stream",
     "text": [
      "\n",
      "Task 3: Descriptive statistics of the dataframe\n",
      "       Random value 1  Random value 2  Random value 3  Random value 4\n",
      "count        4.000000        4.000000        4.000000        4.000000\n",
      "mean         0.494086       -0.049507       -0.002004       -0.222722\n",
      "std          1.094878        0.848744        0.799080        1.268310\n",
      "min         -1.057402       -0.885036       -1.005165       -1.535333\n",
      "25%          0.147402       -0.481017       -0.305987       -1.191143\n",
      "50%          0.804666       -0.217686        0.028756       -0.166791\n",
      "75%          1.151351        0.213823        0.332740        0.801631\n",
      "max          1.424416        1.122378        0.939635        0.978027\n"
     ]
    }
   ],
   "source": [
    "# Task 3: Find descriptive statistics of the dataframe\n",
    "descriptive_stats = df.describe()\n",
    "print(\"\\nTask 3: Descriptive statistics of the dataframe\")\n",
    "print(descriptive_stats)"
   ]
  },
  {
   "cell_type": "code",
   "execution_count": 7,
   "id": "6fe8045c",
   "metadata": {},
   "outputs": [
    {
     "name": "stdout",
     "output_type": "stream",
     "text": [
      "\n",
      "Task 4: Null values and data types\n",
      "Null Values:\n",
      "Random value 1    0\n",
      "Random value 2    0\n",
      "Random value 3    0\n",
      "Random value 4    0\n",
      "dtype: int64\n",
      "\n",
      "Data Types:\n",
      "Random value 1    float64\n",
      "Random value 2    float64\n",
      "Random value 3    float64\n",
      "Random value 4    float64\n",
      "dtype: object\n"
     ]
    }
   ],
   "source": [
    "# Task 4: Check for null values and data types\n",
    "null_values = df.isnull().sum()\n",
    "data_types = df.dtypes\n",
    "print(\"\\nTask 4: Null values and data types\")\n",
    "print(\"Null Values:\")\n",
    "print(null_values)\n",
    "print(\"\\nData Types:\")\n",
    "print(data_types)"
   ]
  },
  {
   "cell_type": "code",
   "execution_count": 8,
   "id": "d405debc",
   "metadata": {},
   "outputs": [
    {
     "name": "stdout",
     "output_type": "stream",
     "text": [
      "\n",
      "Task 5: Displaying 'Random value 2' & 'Random value 3' columns\n",
      "Using location method:\n",
      "0   -0.885036\n",
      "1   -0.346344\n",
      "2    1.122378\n",
      "3   -0.089028\n",
      "Name: Random value 2, dtype: float64\n",
      "0    0.130441\n",
      "1    0.939635\n",
      "2   -1.005165\n",
      "3   -0.072928\n",
      "Name: Random value 3, dtype: float64\n",
      "\n",
      "Using index location method:\n",
      "0   -0.885036\n",
      "1   -0.346344\n",
      "2    1.122378\n",
      "3   -0.089028\n",
      "Name: Random value 2, dtype: float64\n",
      "0    0.130441\n",
      "1    0.939635\n",
      "2   -1.005165\n",
      "3   -0.072928\n",
      "Name: Random value 3, dtype: float64\n"
     ]
    }
   ],
   "source": [
    "# Task 5: Display columns using location methods\n",
    "random_value_2 = df['Random value 2']\n",
    "random_value_3 = df['Random value 3']\n",
    "\n",
    "# Displaying columns using index location method\n",
    "random_value_2_loc = df.iloc[:, 1]  # Column at index 1 (0-based index)\n",
    "random_value_3_loc = df.iloc[:, 2]  # Column at index 2\n",
    "\n",
    "print(\"\\nTask 5: Displaying 'Random value 2' & 'Random value 3' columns\")\n",
    "print(\"Using location method:\")\n",
    "print(random_value_2)\n",
    "print(random_value_3)\n",
    "\n",
    "print(\"\\nUsing index location method:\")\n",
    "print(random_value_2_loc)\n",
    "print(random_value_3_loc)"
   ]
  },
  {
   "cell_type": "markdown",
   "id": "43b1af8a",
   "metadata": {},
   "source": [
    "VIT TASKS-GIVEN BY MAM IN CLASS"
   ]
  },
  {
   "cell_type": "code",
   "execution_count": 13,
   "id": "c69e4019",
   "metadata": {},
   "outputs": [
    {
     "data": {
      "text/html": [
       "<div>\n",
       "<style scoped>\n",
       "    .dataframe tbody tr th:only-of-type {\n",
       "        vertical-align: middle;\n",
       "    }\n",
       "\n",
       "    .dataframe tbody tr th {\n",
       "        vertical-align: top;\n",
       "    }\n",
       "\n",
       "    .dataframe thead th {\n",
       "        text-align: right;\n",
       "    }\n",
       "</style>\n",
       "<table border=\"1\" class=\"dataframe\">\n",
       "  <thead>\n",
       "    <tr style=\"text-align: right;\">\n",
       "      <th></th>\n",
       "      <th>0</th>\n",
       "      <th>1</th>\n",
       "      <th>2</th>\n",
       "      <th>3</th>\n",
       "      <th>4</th>\n",
       "    </tr>\n",
       "  </thead>\n",
       "  <tbody>\n",
       "    <tr>\n",
       "      <th>0</th>\n",
       "      <td>1.142742</td>\n",
       "      <td>-0.173593</td>\n",
       "      <td>0.234535</td>\n",
       "      <td>-2.012049</td>\n",
       "      <td>-1.177420</td>\n",
       "    </tr>\n",
       "    <tr>\n",
       "      <th>1</th>\n",
       "      <td>1.807161</td>\n",
       "      <td>1.167264</td>\n",
       "      <td>-1.346912</td>\n",
       "      <td>0.885858</td>\n",
       "      <td>-1.174890</td>\n",
       "    </tr>\n",
       "    <tr>\n",
       "      <th>2</th>\n",
       "      <td>1.888503</td>\n",
       "      <td>-0.737341</td>\n",
       "      <td>3.656638</td>\n",
       "      <td>-1.609101</td>\n",
       "      <td>-0.513985</td>\n",
       "    </tr>\n",
       "    <tr>\n",
       "      <th>3</th>\n",
       "      <td>1.433169</td>\n",
       "      <td>0.247852</td>\n",
       "      <td>1.834643</td>\n",
       "      <td>-0.100676</td>\n",
       "      <td>0.998863</td>\n",
       "    </tr>\n",
       "    <tr>\n",
       "      <th>4</th>\n",
       "      <td>-0.271812</td>\n",
       "      <td>-1.578779</td>\n",
       "      <td>-0.472792</td>\n",
       "      <td>-1.343632</td>\n",
       "      <td>-0.490375</td>\n",
       "    </tr>\n",
       "    <tr>\n",
       "      <th>5</th>\n",
       "      <td>-1.256846</td>\n",
       "      <td>0.783376</td>\n",
       "      <td>0.746010</td>\n",
       "      <td>-0.011932</td>\n",
       "      <td>-1.077449</td>\n",
       "    </tr>\n",
       "    <tr>\n",
       "      <th>6</th>\n",
       "      <td>1.605788</td>\n",
       "      <td>0.389228</td>\n",
       "      <td>0.492905</td>\n",
       "      <td>-1.229971</td>\n",
       "      <td>1.299043</td>\n",
       "    </tr>\n",
       "    <tr>\n",
       "      <th>7</th>\n",
       "      <td>-0.572012</td>\n",
       "      <td>0.112137</td>\n",
       "      <td>0.146464</td>\n",
       "      <td>2.410167</td>\n",
       "      <td>-0.113688</td>\n",
       "    </tr>\n",
       "    <tr>\n",
       "      <th>8</th>\n",
       "      <td>0.284792</td>\n",
       "      <td>-1.520623</td>\n",
       "      <td>0.060896</td>\n",
       "      <td>-0.301139</td>\n",
       "      <td>-1.474192</td>\n",
       "    </tr>\n",
       "    <tr>\n",
       "      <th>9</th>\n",
       "      <td>0.234706</td>\n",
       "      <td>-0.606478</td>\n",
       "      <td>-1.606456</td>\n",
       "      <td>0.091539</td>\n",
       "      <td>0.440564</td>\n",
       "    </tr>\n",
       "  </tbody>\n",
       "</table>\n",
       "</div>"
      ],
      "text/plain": [
       "          0         1         2         3         4\n",
       "0  1.142742 -0.173593  0.234535 -2.012049 -1.177420\n",
       "1  1.807161  1.167264 -1.346912  0.885858 -1.174890\n",
       "2  1.888503 -0.737341  3.656638 -1.609101 -0.513985\n",
       "3  1.433169  0.247852  1.834643 -0.100676  0.998863\n",
       "4 -0.271812 -1.578779 -0.472792 -1.343632 -0.490375\n",
       "5 -1.256846  0.783376  0.746010 -0.011932 -1.077449\n",
       "6  1.605788  0.389228  0.492905 -1.229971  1.299043\n",
       "7 -0.572012  0.112137  0.146464  2.410167 -0.113688\n",
       "8  0.284792 -1.520623  0.060896 -0.301139 -1.474192\n",
       "9  0.234706 -0.606478 -1.606456  0.091539  0.440564"
      ]
     },
     "execution_count": 13,
     "metadata": {},
     "output_type": "execute_result"
    }
   ],
   "source": [
    "#Task - 1 Create a pandas dataframe (DataFrame name as 'df') (10 observation and 5 features)\n",
    "data = np.random.randn(10,5)\n",
    "df1 = pd.DataFrame(data)\n",
    "df1"
   ]
  },
  {
   "cell_type": "code",
   "execution_count": 14,
   "id": "a721d118",
   "metadata": {},
   "outputs": [
    {
     "name": "stdout",
     "output_type": "stream",
     "text": [
      "<class 'pandas.core.frame.DataFrame'>\n",
      "RangeIndex: 10 entries, 0 to 9\n",
      "Data columns (total 5 columns):\n",
      " #   Column  Non-Null Count  Dtype  \n",
      "---  ------  --------------  -----  \n",
      " 0   0       10 non-null     float64\n",
      " 1   1       10 non-null     float64\n",
      " 2   2       10 non-null     float64\n",
      " 3   3       10 non-null     float64\n",
      " 4   4       10 non-null     float64\n",
      "dtypes: float64(5)\n",
      "memory usage: 528.0 bytes\n"
     ]
    }
   ],
   "source": [
    "#Task- 2 Check the info of 'df'\n",
    "df1.info()"
   ]
  },
  {
   "cell_type": "code",
   "execution_count": 15,
   "id": "c7230543",
   "metadata": {},
   "outputs": [
    {
     "data": {
      "text/html": [
       "<div>\n",
       "<style scoped>\n",
       "    .dataframe tbody tr th:only-of-type {\n",
       "        vertical-align: middle;\n",
       "    }\n",
       "\n",
       "    .dataframe tbody tr th {\n",
       "        vertical-align: top;\n",
       "    }\n",
       "\n",
       "    .dataframe thead th {\n",
       "        text-align: right;\n",
       "    }\n",
       "</style>\n",
       "<table border=\"1\" class=\"dataframe\">\n",
       "  <thead>\n",
       "    <tr style=\"text-align: right;\">\n",
       "      <th></th>\n",
       "      <th>0</th>\n",
       "      <th>1</th>\n",
       "      <th>2</th>\n",
       "      <th>3</th>\n",
       "      <th>4</th>\n",
       "    </tr>\n",
       "  </thead>\n",
       "  <tbody>\n",
       "    <tr>\n",
       "      <th>count</th>\n",
       "      <td>10.000000</td>\n",
       "      <td>10.000000</td>\n",
       "      <td>10.000000</td>\n",
       "      <td>10.000000</td>\n",
       "      <td>10.000000</td>\n",
       "    </tr>\n",
       "    <tr>\n",
       "      <th>mean</th>\n",
       "      <td>0.629619</td>\n",
       "      <td>-0.191696</td>\n",
       "      <td>0.374593</td>\n",
       "      <td>-0.322094</td>\n",
       "      <td>-0.328353</td>\n",
       "    </tr>\n",
       "    <tr>\n",
       "      <th>std</th>\n",
       "      <td>1.101685</td>\n",
       "      <td>0.917768</td>\n",
       "      <td>1.521394</td>\n",
       "      <td>1.317459</td>\n",
       "      <td>0.967217</td>\n",
       "    </tr>\n",
       "    <tr>\n",
       "      <th>min</th>\n",
       "      <td>-1.256846</td>\n",
       "      <td>-1.578779</td>\n",
       "      <td>-1.606456</td>\n",
       "      <td>-2.012049</td>\n",
       "      <td>-1.474192</td>\n",
       "    </tr>\n",
       "    <tr>\n",
       "      <th>25%</th>\n",
       "      <td>-0.145182</td>\n",
       "      <td>-0.704625</td>\n",
       "      <td>-0.339370</td>\n",
       "      <td>-1.315217</td>\n",
       "      <td>-1.150530</td>\n",
       "    </tr>\n",
       "    <tr>\n",
       "      <th>50%</th>\n",
       "      <td>0.713767</td>\n",
       "      <td>-0.030728</td>\n",
       "      <td>0.190500</td>\n",
       "      <td>-0.200907</td>\n",
       "      <td>-0.502180</td>\n",
       "    </tr>\n",
       "    <tr>\n",
       "      <th>75%</th>\n",
       "      <td>1.562633</td>\n",
       "      <td>0.353884</td>\n",
       "      <td>0.682733</td>\n",
       "      <td>0.065671</td>\n",
       "      <td>0.302001</td>\n",
       "    </tr>\n",
       "    <tr>\n",
       "      <th>max</th>\n",
       "      <td>1.888503</td>\n",
       "      <td>1.167264</td>\n",
       "      <td>3.656638</td>\n",
       "      <td>2.410167</td>\n",
       "      <td>1.299043</td>\n",
       "    </tr>\n",
       "  </tbody>\n",
       "</table>\n",
       "</div>"
      ],
      "text/plain": [
       "               0          1          2          3          4\n",
       "count  10.000000  10.000000  10.000000  10.000000  10.000000\n",
       "mean    0.629619  -0.191696   0.374593  -0.322094  -0.328353\n",
       "std     1.101685   0.917768   1.521394   1.317459   0.967217\n",
       "min    -1.256846  -1.578779  -1.606456  -2.012049  -1.474192\n",
       "25%    -0.145182  -0.704625  -0.339370  -1.315217  -1.150530\n",
       "50%     0.713767  -0.030728   0.190500  -0.200907  -0.502180\n",
       "75%     1.562633   0.353884   0.682733   0.065671   0.302001\n",
       "max     1.888503   1.167264   3.656638   2.410167   1.299043"
      ]
     },
     "execution_count": 15,
     "metadata": {},
     "output_type": "execute_result"
    }
   ],
   "source": [
    "#Task 3- Check the descriptive statistics of 'df'\n",
    "df1.describe()"
   ]
  },
  {
   "cell_type": "code",
   "execution_count": 16,
   "id": "5512d0ea",
   "metadata": {},
   "outputs": [
    {
     "name": "stdout",
     "output_type": "stream",
     "text": [
      "0   -0.271812\n",
      "1   -1.578779\n",
      "2   -0.472792\n",
      "3   -1.343632\n",
      "4   -0.490375\n",
      "Name: 4, dtype: float64\n"
     ]
    }
   ],
   "source": [
    "#Task 4- check the 4th index observation with 'loc' slicing operator.\n",
    "observation_at_4th_index = df1.loc[4]\n",
    "print(observation_at_4th_index)"
   ]
  },
  {
   "cell_type": "code",
   "execution_count": 20,
   "id": "02904767",
   "metadata": {},
   "outputs": [
    {
     "data": {
      "text/plain": [
       "0    False\n",
       "1    False\n",
       "2    False\n",
       "3    False\n",
       "4    False\n",
       "dtype: bool"
      ]
     },
     "execution_count": 20,
     "metadata": {},
     "output_type": "execute_result"
    }
   ],
   "source": [
    "#Task 5 - Check the null values in your 'df'\n",
    "df1.isnull().any() #so, no null values are present"
   ]
  },
  {
   "cell_type": "code",
   "execution_count": null,
   "id": "1d9cb991",
   "metadata": {},
   "outputs": [],
   "source": []
  }
 ],
 "metadata": {
  "kernelspec": {
   "display_name": "Python 3 (ipykernel)",
   "language": "python",
   "name": "python3"
  },
  "language_info": {
   "codemirror_mode": {
    "name": "ipython",
    "version": 3
   },
   "file_extension": ".py",
   "mimetype": "text/x-python",
   "name": "python",
   "nbconvert_exporter": "python",
   "pygments_lexer": "ipython3",
   "version": "3.9.13"
  }
 },
 "nbformat": 4,
 "nbformat_minor": 5
}
